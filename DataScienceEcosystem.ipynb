{
 "cells": [
  {
   "cell_type": "markdown",
   "id": "e5a9ab68-8825-4321-ba46-e584f90a5532",
   "metadata": {
    "tags": []
   },
   "source": [
    "# Data Science Tools and Ecosystem"
   ]
  },
  {
   "cell_type": "markdown",
   "id": "a7f68996-23f0-4f5c-8699-584aea0c9b21",
   "metadata": {},
   "source": [
    "In this notebook, Data Science Tools and Ecosystem are summarized.\n",
    "\n",
    "***Objectives:***\n",
    "* SQL\n",
    "* Python\n",
    "* R"
   ]
  },
  {
   "cell_type": "markdown",
   "id": "74ec6b94-9b68-47e4-b69d-c8d0cb510925",
   "metadata": {},
   "source": [
    "Some of the popular languages that Data Scientists use are:\n",
    "1. Python\n",
    "2. SQL \n",
    "3. R"
   ]
  },
  {
   "cell_type": "markdown",
   "id": "6077683a-a29a-4246-862b-a64b2246d01b",
   "metadata": {},
   "source": [
    "Some of the commonly used libraries used by Data Scientists include:\n",
    "    \n",
    "    \n",
    "    1. Panda\n",
    "    2. Numpy\n",
    "    3. Matplotlib"
   ]
  },
  {
   "cell_type": "markdown",
   "id": "e0733a43-a251-4a09-8c4f-12a4bf8d4dae",
   "metadata": {},
   "source": [
    "| Data Science Tools |\n",
    "| -------------| \n",
    "| Rstudio | \n",
    "| Jupyter Nootbook | \n",
    "| Tensorflow | "
   ]
  },
  {
   "cell_type": "markdown",
   "id": "38dd8aaf-d43f-491b-9525-f70fe6e33ee1",
   "metadata": {},
   "source": [
    "### Below are a few examples of evaluating arithmetic expressions in Python"
   ]
  },
  {
   "cell_type": "code",
   "execution_count": 4,
   "id": "822606b6-40d1-41f6-8221-6ffbe5b06de6",
   "metadata": {
    "tags": []
   },
   "outputs": [
    {
     "data": {
      "text/plain": [
       "17"
      ]
     },
     "execution_count": 4,
     "metadata": {},
     "output_type": "execute_result"
    }
   ],
   "source": [
    "# This a simple arithmetic expression to mutiply then add integers\n",
    "(3*4)+5"
   ]
  },
  {
   "cell_type": "code",
   "execution_count": 5,
   "id": "3b49ef1e-6d87-4b8b-b0c7-2d144369877f",
   "metadata": {
    "tags": []
   },
   "outputs": [
    {
     "data": {
      "text/plain": [
       "3.3333333333333335"
      ]
     },
     "execution_count": 5,
     "metadata": {},
     "output_type": "execute_result"
    }
   ],
   "source": [
    "# This will convert 200 minutes to hours by diving by 60\n",
    "200/60"
   ]
  },
  {
   "cell_type": "markdown",
   "id": "f6a83a61-d3dd-4d15-8250-a6c21f120675",
   "metadata": {},
   "source": [
    "## Author\n",
    "Patrick"
   ]
  },
  {
   "cell_type": "code",
   "execution_count": null,
   "id": "263da71d-7ce4-4578-b703-14191fcd048b",
   "metadata": {},
   "outputs": [],
   "source": []
  }
 ],
 "metadata": {
  "kernelspec": {
   "display_name": "Python",
   "language": "python",
   "name": "conda-env-python-py"
  },
  "language_info": {
   "codemirror_mode": {
    "name": "ipython",
    "version": 3
   },
   "file_extension": ".py",
   "mimetype": "text/x-python",
   "name": "python",
   "nbconvert_exporter": "python",
   "pygments_lexer": "ipython3",
   "version": "3.7.12"
  }
 },
 "nbformat": 4,
 "nbformat_minor": 5
}
